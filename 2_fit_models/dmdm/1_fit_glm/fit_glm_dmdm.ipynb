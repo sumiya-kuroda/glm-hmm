{
 "cells": [
  {
   "cell_type": "markdown",
   "metadata": {},
   "source": [
    "# **Fit GLM to dmdm data**\n",
    "---\n",
    "We first fit normal GLM to the dataset."
   ]
  },
  {
   "cell_type": "markdown",
   "metadata": {},
   "source": [
    "## **HPC setting**\n",
    "Ashwood's original script is written in python scirpts. Here, we rewrite it in Jupyter to make it more user-friendly to run on HPC with `dask`. [This](https://github.com/pierreglaser/hpc-tutorial/tree/main) is very useful resource to get familiar with `dask`."
   ]
  },
  {
   "cell_type": "code",
   "execution_count": 1,
   "metadata": {},
   "outputs": [],
   "source": [
    "%load_ext autoreload\n",
    "%autoreload 2"
   ]
  },
  {
   "cell_type": "code",
   "execution_count": 2,
   "metadata": {},
   "outputs": [
    {
     "name": "stderr",
     "output_type": "stream",
     "text": [
      "/nfs/nhome/live/skuroda/.conda/envs/glmhmm/lib/python3.7/site-packages/dask_jobqueue/core.py:17: FutureWarning: format_bytes is deprecated and will be removed in a future release. Please use dask.utils.format_bytes instead.\n",
      "  from distributed.utils import format_bytes, parse_bytes, tmpfile, get_ip_interface\n",
      "/nfs/nhome/live/skuroda/.conda/envs/glmhmm/lib/python3.7/site-packages/dask_jobqueue/core.py:17: FutureWarning: parse_bytes is deprecated and will be removed in a future release. Please use dask.utils.parse_bytes instead.\n",
      "  from distributed.utils import format_bytes, parse_bytes, tmpfile, get_ip_interface\n",
      "/nfs/nhome/live/skuroda/.conda/envs/glmhmm/lib/python3.7/site-packages/dask_jobqueue/core.py:17: FutureWarning: tmpfile is deprecated and will be removed in a future release. Please use dask.utils.tmpfile instead.\n",
      "  from distributed.utils import format_bytes, parse_bytes, tmpfile, get_ip_interface\n",
      "/nfs/nhome/live/skuroda/.conda/envs/glmhmm/lib/python3.7/site-packages/dask_jobqueue/htcondor.py:6: FutureWarning: parse_bytes is deprecated and will be removed in a future release. Please use dask.utils.parse_bytes instead.\n",
      "  from distributed.utils import parse_bytes\n"
     ]
    },
    {
     "name": "stdout",
     "output_type": "stream",
     "text": [
      "http://192.168.234.51:8787/status\n"
     ]
    }
   ],
   "source": [
    "# allocate the computing resources\n",
    "from dask_jobqueue import SLURMCluster\n",
    "from distributed import Client\n",
    "from joblib import Memory, Parallel, delayed, parallel_backend\n",
    "from threadpoolctl import threadpool_limits\n",
    "\n",
    "cluster = SLURMCluster(\n",
    "    workers=0,      # create the workers \"lazily\" (upon cluster.scal)\n",
    "    memory='32g',   # amount of RAM per worker\n",
    "    processes=1,    # number of execution units per worker (threads and processes)\n",
    "    cores=1,        # among those execution units, number of processes\n",
    "    # A lazy trick to avoid matplotlib crash with parallel plotting\n",
    "    worker_extra_args=[\"--resources GPU=2\"], # the only way to add GPUs\n",
    "    local_directory='/nfs/nhome/live/skuroda/jobs', # set your path to save log\n",
    "    log_directory='/nfs/nhome/live/skuroda/jobs' # set your path to save log\n",
    ")   \n",
    "\n",
    "memory = Memory('/nfs/nhome/live/skuroda/joblib-cache') # set your path\n",
    "\n",
    "cluster.scale(10)\n",
    "client = Client(cluster)\n",
    "print(client.dashboard_link)"
   ]
  },
  {
   "cell_type": "markdown",
   "metadata": {},
   "source": [
    "## **Fit GLM to all animals**\n",
    "---"
   ]
  },
  {
   "cell_type": "code",
   "execution_count": 3,
   "metadata": {},
   "outputs": [],
   "source": [
    "# ------- load modules -------\n",
    "import autograd.numpy as np\n",
    "import autograd.numpy.random as npr\n",
    "from glm_utils import get_file_dir, load_session_fold_lookup, load_data, fit_glm, \\\n",
    "    plot_input_vectors, append_zeros\n",
    "from functools import partial\n",
    "from collections import OrderedDict"
   ]
  },
  {
   "cell_type": "code",
   "execution_count": 4,
   "metadata": {},
   "outputs": [],
   "source": [
    "# ------- setup variables -------\n",
    "dname = 'dataAllMice'\n",
    "C = 4  # number of output types/categories. Hit/FA/Miss/Abort\n",
    "nested_outcome = OrderedDict() # define nested structure for behavioral outcomes\n",
    "nested_outcome[\"Baseline\"] = [2, 3]\n",
    "nested_outcome[\"Change\"] = [0, 1]\n",
    "\n",
    "N_initializations = 10\n",
    "num_folds = 5\n",
    "labels_for_plot = ['CSize', 'COnset', \n",
    "                   'PrevMiss?', 'PrevHit?', 'PrevFA?', 'PrevAbort?',\n",
    "                   'bias']\n",
    "npr.seed(65)  # set seed in case of randomization"
   ]
  },
  {
   "cell_type": "code",
   "execution_count": 5,
   "metadata": {},
   "outputs": [],
   "source": [
    "# ------- setup path and load data -------\n",
    "data_dir =  get_file_dir().parents[2] / \"data\" / \"dmdm\" / dname / 'data_for_cluster'\n",
    "# Create directory for results:\n",
    "results_dir = get_file_dir().parents[2] / \"results\" / \"dmdm_global_fit_2\" / dname\n",
    "results_dir.mkdir(parents=True, exist_ok=True)\n",
    "\n",
    "animal_file = data_dir / 'all_animals_concat.npz'\n",
    "inpt, y, session, rt, stimT = load_data(animal_file)\n",
    "session_fold_lookup_table = load_session_fold_lookup(\n",
    "    data_dir / 'all_animals_concat_session_fold_lookup.npz')"
   ]
  },
  {
   "cell_type": "code",
   "execution_count": 6,
   "metadata": {},
   "outputs": [],
   "source": [
    "def fit_GLM(inpt, y, session, session_fold_lookup_table, labels_for_plot, fold):\n",
    "    # Subset to relevant covariates for covar set of interest:\n",
    "    y = y.astype('int')\n",
    "    figure_directory = results_dir / \"GLM\" / (\"fold_\" + str(fold)) \n",
    "    figure_directory.mkdir(parents=True, exist_ok=True)\n",
    "\n",
    "    # Subset to sessions of interest for fold\n",
    "    sessions_to_keep = session_fold_lookup_table[np.where(\n",
    "        session_fold_lookup_table[:, 1] != fold), 0]\n",
    "    idx_this_fold = [\n",
    "        str(sess) in sessions_to_keep and y[id, 0] != -1\n",
    "        for id, sess in enumerate(session)\n",
    "    ]\n",
    "    this_inpt, this_y, this_session = inpt[idx_this_fold, :], y[\n",
    "        idx_this_fold, :], session[idx_this_fold]\n",
    "    assert len(\n",
    "        np.unique(this_y)\n",
    "    ) == 4, \"choice vector should only include 4 possible values\"\n",
    "    train_size = this_inpt.shape[0]\n",
    "\n",
    "    M = this_inpt.shape[1]\n",
    "    loglikelihood_train_vector = []\n",
    "\n",
    "    for iter in range(N_initializations):  # GLM fitting should be\n",
    "        # independent of initialization, so fitting multiple\n",
    "        # initializations is a good way to check that everything is\n",
    "        # working correctly\n",
    "        loglikelihood_train, recovered_weights = fit_glm([this_inpt],\n",
    "                                                         [this_y], \n",
    "                                                         M, \n",
    "                                                         C)\n",
    "        # weights_for_plotting = append_zeros(recovered_weights)\n",
    "        plot_input_vectors(recovered_weights,\n",
    "                           figure_directory,\n",
    "                           title=\"GLM fit; Final LL = \" +\n",
    "                           str(loglikelihood_train),\n",
    "                           save_title='init' + str(iter),\n",
    "                           labels_for_plot=labels_for_plot)\n",
    "        loglikelihood_train_vector.append(loglikelihood_train)\n",
    "        np.savez(\n",
    "            figure_directory / ('variables_of_interest_iter_' + str(iter) + '.npz'), \n",
    "            loglikelihood_train, recovered_weights)\n",
    "        \n",
    "\n",
    "fit_GLM_eachfold = partial(fit_GLM, inpt, y, session, session_fold_lookup_table, labels_for_plot)        \n",
    "fit_GLM_eachfold_cached = memory.cache(fit_GLM_eachfold)"
   ]
  },
  {
   "cell_type": "code",
   "execution_count": 7,
   "metadata": {},
   "outputs": [
    {
     "name": "stdout",
     "output_type": "stream",
     "text": [
      "[Parallel(n_jobs=-1)]: Using backend DaskDistributedBackend with 4 concurrent workers.\n",
      "[Parallel(n_jobs=-1)]: Done   1 tasks      | elapsed:   40.4s\n",
      "[Parallel(n_jobs=-1)]: Done   2 out of   5 | elapsed:   41.0s remaining:  1.0min\n",
      "[Parallel(n_jobs=-1)]: Done   3 out of   5 | elapsed:   41.3s remaining:   27.5s\n",
      "[Parallel(n_jobs=-1)]: Done   5 out of   5 | elapsed:  1.3min remaining:    0.0s\n",
      "[Parallel(n_jobs=-1)]: Done   5 out of   5 | elapsed:  1.3min finished\n",
      "CPU times: user 4.51 s, sys: 838 ms, total: 5.35 s\n",
      "Wall time: 1min 22s\n"
     ]
    }
   ],
   "source": [
    "%%time\n",
    "with threadpool_limits(limits=1, user_api='blas'):\n",
    "    with parallel_backend('dask', wait_for_workers_timeout=60):\n",
    "        Parallel(verbose=100)(delayed(fit_GLM_eachfold_cached)(fold) for fold in range(num_folds))"
   ]
  },
  {
   "cell_type": "code",
   "execution_count": 8,
   "metadata": {},
   "outputs": [
    {
     "name": "stdout",
     "output_type": "stream",
     "text": [
      "[[[ 402.4824582   290.1413247  -159.26466537 -180.98589638 -173.00730754\n",
      "   -134.09774482 -646.82070559]\n",
      "  [ 399.95710472  -95.59430781   52.09718452   60.30178985   56.32519901\n",
      "     43.82500629  212.86165349]\n",
      "  [-187.95387638  -97.14138887   53.95042094   61.90432291   58.40606482\n",
      "     44.92578371  216.01829996]\n",
      "  [-609.97002332  -97.62602025   53.6461742    60.72833812   56.34085912\n",
      "     46.09684308  216.79248747]]]\n"
     ]
    },
    {
     "data": {
      "image/png": "[encoded data removed]",
      "text/plain": [
       "<IPython.core.display.Image object>"
      ]
     },
     "execution_count": 8,
     "metadata": {},
     "output_type": "execute_result"
    }
   ],
   "source": [
    "# Plot some results\n",
    "from IPython.display import Image\n",
    "example_npz_loc = str(results_dir / \"GLM\" / \"fold_4\" / 'variables_of_interest_iter_9.npz')\n",
    "example_npz = np.load(example_npz_loc)\n",
    "example_img_loc = str(results_dir / \"GLM\" / \"fold_4\" / 'glm_weights_init9.png')\n",
    "print(example_npz['arr_1'])\n",
    "Image(filename=example_img_loc) "
   ]
  },
  {
   "cell_type": "markdown",
   "metadata": {},
   "source": [
    "## **Fit GLM to each animal separately**\n",
    "---"
   ]
  },
  {
   "cell_type": "code",
   "execution_count": null,
   "metadata": {},
   "outputs": [],
   "source": [
    "def fit_GLM(inpt, y, session, session_fold_lookup_table, labels_for_plot, fold):\n",
    "\n",
    "    data_dir = '../../data/ibl/data_for_cluster/data_by_animal/'\n",
    "    num_folds = 5\n",
    "    animal_list = load_animal_list(data_dir + 'animal_list.npz')\n",
    "\n",
    "    results_dir = '../../results/ibl_individual_fit/'\n",
    "    if not os.path.exists(results_dir):\n",
    "        os.makedirs(results_dir)\n",
    "\n",
    "    for animal in animal_list:\n",
    "        # Fit GLM to data from single animal:\n",
    "        animal_file = data_dir + animal + '_processed.npz'\n",
    "        session_fold_lookup_table = load_session_fold_lookup(\n",
    "            data_dir + animal + '_session_fold_lookup.npz')\n",
    "\n",
    "        for fold in range(num_folds):\n",
    "            this_results_dir = results_dir + animal + '/'\n",
    "\n",
    "            # Load data\n",
    "            inpt, y, session = load_data(animal_file)\n",
    "            labels_for_plot = ['stim', 'pc', 'wsls', 'bias']\n",
    "            y = y.astype('int')\n",
    "\n",
    "            figure_directory = this_results_dir + \"GLM/fold_\" + str(fold) + '/'\n",
    "            if not os.path.exists(figure_directory):\n",
    "                os.makedirs(figure_directory)\n",
    "\n",
    "            # Subset to sessions of interest for fold\n",
    "            sessions_to_keep = session_fold_lookup_table[np.where(\n",
    "                session_fold_lookup_table[:, 1] != fold), 0]\n",
    "            idx_this_fold = [\n",
    "                str(sess) in sessions_to_keep and y[id, 0] != -1\n",
    "                for id, sess in enumerate(session)\n",
    "            ]\n",
    "            this_inpt, this_y, this_session = inpt[idx_this_fold, :], \\\n",
    "                                              y[idx_this_fold, :], \\\n",
    "                                              session[idx_this_fold]\n",
    "            assert len(\n",
    "                np.unique(this_y)\n",
    "            ) == 2, \"choice vector should only include 2 possible values\"\n",
    "            train_size = this_inpt.shape[0]\n",
    "\n",
    "            M = this_inpt.shape[1]\n",
    "            loglikelihood_train_vector = []\n",
    "\n",
    "            for iter in range(N_initializations):\n",
    "                loglikelihood_train, recovered_weights = fit_glm([this_inpt],\n",
    "                                                                 [this_y], M,\n",
    "                                                                 C)\n",
    "                weights_for_plotting = append_zeros(recovered_weights)\n",
    "                plot_input_vectors(weights_for_plotting,\n",
    "                                   figure_directory,\n",
    "                                   title=\"GLM fit; Final LL = \" +\n",
    "                                   str(loglikelihood_train),\n",
    "                                   save_title='init' + str(iter),\n",
    "                                   labels_for_plot=labels_for_plot)\n",
    "                loglikelihood_train_vector.append(loglikelihood_train)\n",
    "                np.savez(\n",
    "                    figure_directory + 'variables_of_interest_iter_' +\n",
    "                    str(iter) + '.npz', loglikelihood_train, recovered_weights)\n"
   ]
  },
  {
   "cell_type": "code",
   "execution_count": null,
   "metadata": {},
   "outputs": [],
   "source": [
    "# Once finished, shut down the cluster and the client\n",
    "cluster.close()\n",
    "client.close()"
   ]
  },
  {
   "cell_type": "code",
   "execution_count": null,
   "metadata": {},
   "outputs": [],
   "source": []
  }
 ],
 "metadata": {
  "kernelspec": {
   "display_name": "Python 3 (ipykernel)",
   "language": "python",
   "name": "python3"
  },
  "language_info": {
   "codemirror_mode": {
    "name": "ipython",
    "version": 3
   },
   "file_extension": ".py",
   "mimetype": "text/x-python",
   "name": "python",
   "nbconvert_exporter": "python",
   "pygments_lexer": "ipython3",
   "version": "3.7.6"
  }
 },
 "nbformat": 4,
 "nbformat_minor": 2
}
