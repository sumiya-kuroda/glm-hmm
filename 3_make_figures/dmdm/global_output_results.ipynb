{
 "cells": [
  {
   "cell_type": "markdown",
   "metadata": {},
   "source": [
    "## **Global output results**\n",
    "---\n"
   ]
  },
  {
   "cell_type": "code",
   "execution_count": 1,
   "metadata": {},
   "outputs": [],
   "source": [
    "%load_ext autoreload\n",
    "%autoreload 2"
   ]
  },
  {
   "cell_type": "code",
   "execution_count": 2,
   "metadata": {},
   "outputs": [
    {
     "name": "stderr",
     "output_type": "stream",
     "text": [
      "In /nfs/nhome/live/skuroda/.conda/envs/glmhmm/lib/python3.7/site-packages/matplotlib/mpl-data/stylelib/_classic_test.mplstyle: \n",
      "The text.latex.preview rcparam was deprecated in Matplotlib 3.3 and will be removed two minor releases later.\n",
      "In /nfs/nhome/live/skuroda/.conda/envs/glmhmm/lib/python3.7/site-packages/matplotlib/mpl-data/stylelib/_classic_test.mplstyle: \n",
      "The mathtext.fallback_to_cm rcparam was deprecated in Matplotlib 3.3 and will be removed two minor releases later.\n",
      "In /nfs/nhome/live/skuroda/.conda/envs/glmhmm/lib/python3.7/site-packages/matplotlib/mpl-data/stylelib/_classic_test.mplstyle: Support for setting the 'mathtext.fallback_to_cm' rcParam is deprecated since 3.3 and will be removed two minor releases later; use 'mathtext.fallback : 'cm' instead.\n",
      "In /nfs/nhome/live/skuroda/.conda/envs/glmhmm/lib/python3.7/site-packages/matplotlib/mpl-data/stylelib/_classic_test.mplstyle: \n",
      "The validate_bool_maybe_none function was deprecated in Matplotlib 3.3 and will be removed two minor releases later.\n",
      "In /nfs/nhome/live/skuroda/.conda/envs/glmhmm/lib/python3.7/site-packages/matplotlib/mpl-data/stylelib/_classic_test.mplstyle: \n",
      "The savefig.jpeg_quality rcparam was deprecated in Matplotlib 3.3 and will be removed two minor releases later.\n",
      "In /nfs/nhome/live/skuroda/.conda/envs/glmhmm/lib/python3.7/site-packages/matplotlib/mpl-data/stylelib/_classic_test.mplstyle: \n",
      "The keymap.all_axes rcparam was deprecated in Matplotlib 3.3 and will be removed two minor releases later.\n",
      "In /nfs/nhome/live/skuroda/.conda/envs/glmhmm/lib/python3.7/site-packages/matplotlib/mpl-data/stylelib/_classic_test.mplstyle: \n",
      "The animation.avconv_path rcparam was deprecated in Matplotlib 3.3 and will be removed two minor releases later.\n",
      "In /nfs/nhome/live/skuroda/.conda/envs/glmhmm/lib/python3.7/site-packages/matplotlib/mpl-data/stylelib/_classic_test.mplstyle: \n",
      "The animation.avconv_args rcparam was deprecated in Matplotlib 3.3 and will be removed two minor releases later.\n"
     ]
    }
   ],
   "source": [
    "import numpy as np\n",
    "from sklearn import preprocessing\n",
    "import json\n",
    "import sys\n",
    "import os\n",
    "import matplotlib.pyplot as plt\n",
    "import pandas as pd\n",
    "import seaborn as sns\n",
    "from pathlib import Path\n",
    "from collections import defaultdict\n",
    "\n",
    "sys.path.append('../../2_fit_models/dmdm')\n",
    "from data_io import get_file_dir, load_animal_list, load_cv_arr, load_data\n",
    "from data_labels import create_abort_mask, partition_data_by_session\n",
    "from plot_model_perform import create_cv_frame_for_plotting, plot_state_Wk, plot_state_dwelltime\n",
    "from plotting_utils import load_global_glmhmm_result, calc_dwell_time, flatten_list\n",
    "from plot_animal_behav import plot_PC, plot_CC, plot_FArate\n",
    "\n",
    "sys.path.append('../../1_preprocess_data/dmdm')\n",
    "from preprocessing_utils import load_animal_eid_dict\n",
    "import matplotlib.ticker as ticker"
   ]
  },
  {
   "cell_type": "code",
   "execution_count": 3,
   "metadata": {},
   "outputs": [],
   "source": [
    "# ------- setup variables -------\n",
    "dnames = ['dataAllHumans', 'dataAllMiceTraining']\n",
    "C = 3  # number of output types/categories\n",
    "D = 1  # data (observations) dimension\n",
    "labels_for_plot_y = ['CSize', 'COnset', 'Outcome +1', 'Outcome +2', 'Outcome +3', 'Outcome +4', 'Outcome +5', 'bias']\n",
    "\n",
    "save_figures = True\n",
    "figure_dir = get_file_dir().parents[1] / 'figures'\n",
    "figure_dir.mkdir(parents=True, exist_ok=True)\n",
    "\n",
    "model = 'GLM_HMM_y'\n",
    "Ks = [2,4]"
   ]
  },
  {
   "cell_type": "code",
   "execution_count": 5,
   "metadata": {},
   "outputs": [],
   "source": [
    "dname = 'dataAllMiceTraining'\n",
    "K = 4"
   ]
  },
  {
   "cell_type": "code",
   "execution_count": 13,
   "metadata": {},
   "outputs": [],
   "source": [
    "dname = 'dataAllHumans'\n",
    "K = 2\n",
    "dnames = ['dataAllHumans']\n",
    "Ks = [3]"
   ]
  },
  {
   "cell_type": "code",
   "execution_count": 14,
   "metadata": {},
   "outputs": [],
   "source": [
    "regularization = 'L2'"
   ]
  },
  {
   "cell_type": "code",
   "execution_count": 15,
   "metadata": {},
   "outputs": [
    {
     "data": {
      "image/png": "[encoded data removed]",
      "text/plain": [
       "<Figure size 640x480 with 1 Axes>"
      ]
     },
     "metadata": {},
     "output_type": "display_data"
    }
   ],
   "source": [
    "for i, dname in enumerate(dnames):\n",
    "    K = Ks[i]\n",
    "\n",
    "    data_dir =  get_file_dir().parents[1] / \"data\" / \"dmdm\" / dname / 'data_for_cluster'\n",
    "    # results_dir = get_file_dir().parents[1] / \"results\" / \"dmdm_global_fit\" / dname\n",
    "\n",
    "    # Load GLM-HMM results\n",
    "    states_max_posterior, _, inpt_rt, _, session, _, _, mask, hmm_params \\\n",
    "        = load_global_glmhmm_result(K, model, data_dir, regularization)\n",
    "\n",
    "    # Load raw data eids\n",
    "    animal_list = load_animal_list(\n",
    "        data_dir / 'data_by_animal' / 'animal_list.npz')\n",
    "    animal_eid_dict = load_animal_eid_dict(\n",
    "        data_dir / 'final_animal_eid_dict.json')\n",
    "\n",
    "    # Create trial IDs\n",
    "    trialnum_all = []\n",
    "    for z, animal in enumerate(animal_list):\n",
    "        sess_counter = 0\n",
    "        for eid in animal_eid_dict[animal]:\n",
    "\n",
    "            raw_session_id = eid.split('Subjects/')[1]\n",
    "            # Get animal:\n",
    "            animal = raw_session_id.split('/')[0]\n",
    "            # Replace '/' with dash in session ID\n",
    "            session_id = raw_session_id.replace('/', '-')\n",
    "\n",
    "            trialnum = np.load(data_dir.parent / Path(eid) / '_dmdm_trials.trial.npy')[0]\n",
    "            trialnum2 = [session_id + '-' + str(int(t)) for t in trialnum]\n",
    "            trialnum_all.append(trialnum2)\n",
    "\n",
    "    # Save outputs in json file\n",
    "    rdict = defaultdict(list)\n",
    "    for zk in range(K):\n",
    "        b = np.where(states_max_posterior == zk)\n",
    "        x = np.array(flatten_list(trialnum_all))[b]\n",
    "        rdict[zk] = x.tolist()\n",
    "\n",
    "    out_json = json.dumps(rdict)\n",
    "    f = open(str(figure_dir / \"state_session_trial_{}_K_{}_{}.json\".format(dname, K, regularization)), \"w\")\n",
    "    f.write(out_json)\n",
    "    f.close()\n",
    "\n",
    "    zkd = pd.DataFrame(\n",
    "        {'zk': states_max_posterior,\n",
    "        'trial_ids': flatten_list(trialnum_all)\n",
    "        })\n",
    "\n",
    "    zkd = pd.DataFrame(\n",
    "        {'zk': states_max_posterior,\n",
    "        'trial_ids': flatten_list(trialnum_all)\n",
    "        })\n",
    "\n",
    "    if dname == 'dataAllHumans':\n",
    "        zkd['animals'] = 'H' + zkd.trial_ids.str.split('_').str[3]\n",
    "        zkd['sessions'] = zkd.trial_ids.str.split('-').str[1]\n",
    "    elif dname == 'dataAllMiceTraining':\n",
    "        zkd['animals'] = zkd.trial_ids.str.split('-').str[0]\n",
    "        zkd['sessions'] = zkd.trial_ids.str.split('-').str[1]\n",
    "\n",
    "    zk_fraction_occupancy = zkd.groupby(['animals'])['zk'].value_counts(normalize=True).unstack().fillna(0)\n",
    "    ax = zk_fraction_occupancy.plot.bar(stacked=True)"
   ]
  },
  {
   "cell_type": "code",
   "execution_count": 13,
   "metadata": {},
   "outputs": [],
   "source": [
    "data_dir =  get_file_dir().parents[1] / \"data\" / \"dmdm\" / dname / 'data_for_cluster'\n",
    "results_dir = get_file_dir().parents[1] / \"results\" / \"dmdm_global_fit\" / dname\n",
    "\n",
    "# Load GLM-HMM results\n",
    "states_max_posterior, _, inpt_rt, _, session, _, stim_onset, mask, hmm_params \\\n",
    "    = load_global_glmhmm_result(K, model, data_dir)\n",
    "\n",
    "# Load raw data eids\n",
    "animal_list = load_animal_list(\n",
    "    data_dir / 'data_by_animal' / 'animal_list.npz')\n",
    "animal_eid_dict = load_animal_eid_dict(\n",
    "    data_dir / 'final_animal_eid_dict.json')\n",
    "\n",
    "# Create trial IDs\n",
    "trialnum_all = []\n",
    "for z, animal in enumerate(animal_list):\n",
    "    sess_counter = 0\n",
    "    for eid in animal_eid_dict[animal]:\n",
    "\n",
    "        raw_session_id = eid.split('Subjects/')[1]\n",
    "        # Get animal:\n",
    "        animal = raw_session_id.split('/')[0]\n",
    "        # Replace '/' with dash in session ID\n",
    "        session_id = raw_session_id.replace('/', '-')\n",
    "\n",
    "        trialnum = np.load(data_dir.parent / Path(eid) / '_dmdm_trials.trial.npy')[0]\n",
    "        trialnum2 = [session_id + '-' + str(int(t)) for t in trialnum]\n",
    "        trialnum_all.append(trialnum2)"
   ]
  },
  {
   "cell_type": "code",
   "execution_count": 8,
   "metadata": {},
   "outputs": [],
   "source": [
    "zkd = pd.DataFrame(\n",
    "    {'zk': states_max_posterior,\n",
    "     'trial_id': flatten_list(trialnum_all)\n",
    "    })\n",
    "\n",
    "if dname == 'dataAllHumans':\n",
    "    zkd['animal'] = 'H' + zkd.trial_id.str.split('_').str[3]\n",
    "    zkd['session'] = zkd.trial_id.str.split('-').str[1]\n",
    "elif dname == 'dataAllMiceTraining':\n",
    "    zkd['animal'] = zkd.trial_id.str.split('-').str[0]\n",
    "    zkd['session'] = zkd.trial_id.str.split('-').str[1]"
   ]
  },
  {
   "cell_type": "code",
   "execution_count": 66,
   "metadata": {},
   "outputs": [],
   "source": [
    "zk_fraction_occupancy = zkd.groupby(['animal'])['zk'].value_counts(normalize=True).unstack().fillna(0)"
   ]
  },
  {
   "cell_type": "code",
   "execution_count": 67,
   "metadata": {},
   "outputs": [
    {
     "data": {
      "image/png": "[encoded data removed]",
      "text/plain": [
       "<Figure size 640x480 with 1 Axes>"
      ]
     },
     "metadata": {},
     "output_type": "display_data"
    }
   ],
   "source": [
    "ax = zk_fraction_occupancy.plot.bar(stacked=True)"
   ]
  },
  {
   "cell_type": "code",
   "execution_count": null,
   "metadata": {},
   "outputs": [],
   "source": []
  },
  {
   "cell_type": "code",
   "execution_count": 16,
   "metadata": {},
   "outputs": [
    {
     "data": {
      "text/plain": [
       "array([     0,      1,      2, ..., 147842, 147843, 147844])"
      ]
     },
     "execution_count": 16,
     "metadata": {},
     "output_type": "execute_result"
    }
   ],
   "source": [
    "np.where(states_max_posterior == 0)[0]"
   ]
  },
  {
   "cell_type": "code",
   "execution_count": 19,
   "metadata": {},
   "outputs": [],
   "source": [
    "a = stim_onset[np.where(states_max_posterior == 0)[0],:]"
   ]
  },
  {
   "cell_type": "code",
   "execution_count": 20,
   "metadata": {},
   "outputs": [
    {
     "data": {
      "text/plain": [
       "49198"
      ]
     },
     "execution_count": 20,
     "metadata": {},
     "output_type": "execute_result"
    }
   ],
   "source": [
    "len(a)"
   ]
  },
  {
   "cell_type": "code",
   "execution_count": 21,
   "metadata": {},
   "outputs": [
    {
     "data": {
      "text/plain": [
       "array([29091])"
      ]
     },
     "execution_count": 21,
     "metadata": {},
     "output_type": "execute_result"
    }
   ],
   "source": [
    "sum(a<10)"
   ]
  },
  {
   "cell_type": "code",
   "execution_count": 22,
   "metadata": {},
   "outputs": [],
   "source": [
    "b = stim_onset[np.where(states_max_posterior == 1)[0],:]"
   ]
  },
  {
   "cell_type": "code",
   "execution_count": 23,
   "metadata": {},
   "outputs": [
    {
     "data": {
      "text/plain": [
       "63800"
      ]
     },
     "execution_count": 23,
     "metadata": {},
     "output_type": "execute_result"
    }
   ],
   "source": [
    "len(b)"
   ]
  },
  {
   "cell_type": "code",
   "execution_count": 24,
   "metadata": {},
   "outputs": [
    {
     "data": {
      "text/plain": [
       "array([23198])"
      ]
     },
     "execution_count": 24,
     "metadata": {},
     "output_type": "execute_result"
    }
   ],
   "source": [
    "sum(b<10)"
   ]
  },
  {
   "cell_type": "code",
   "execution_count": null,
   "metadata": {},
   "outputs": [],
   "source": []
  },
  {
   "cell_type": "code",
   "execution_count": 9,
   "metadata": {},
   "outputs": [
    {
     "data": {
      "text/html": [
       "<div>\n",
       "<style scoped>\n",
       "    .dataframe tbody tr th:only-of-type {\n",
       "        vertical-align: middle;\n",
       "    }\n",
       "\n",
       "    .dataframe tbody tr th {\n",
       "        vertical-align: top;\n",
       "    }\n",
       "\n",
       "    .dataframe thead th {\n",
       "        text-align: right;\n",
       "    }\n",
       "</style>\n",
       "<table border=\"1\" class=\"dataframe\">\n",
       "  <thead>\n",
       "    <tr style=\"text-align: right;\">\n",
       "      <th></th>\n",
       "      <th>zk</th>\n",
       "      <th>trial_id</th>\n",
       "      <th>animal</th>\n",
       "      <th>session</th>\n",
       "    </tr>\n",
       "  </thead>\n",
       "  <tbody>\n",
       "    <tr>\n",
       "      <th>0</th>\n",
       "      <td>0</td>\n",
       "      <td>M_AK001-AK_001_s1_20201113_173033-1</td>\n",
       "      <td>M_AK001</td>\n",
       "      <td>AK_001_s1_20201113_173033</td>\n",
       "    </tr>\n",
       "    <tr>\n",
       "      <th>1</th>\n",
       "      <td>0</td>\n",
       "      <td>M_AK001-AK_001_s1_20201113_173033-2</td>\n",
       "      <td>M_AK001</td>\n",
       "      <td>AK_001_s1_20201113_173033</td>\n",
       "    </tr>\n",
       "    <tr>\n",
       "      <th>2</th>\n",
       "      <td>0</td>\n",
       "      <td>M_AK001-AK_001_s1_20201113_173033-3</td>\n",
       "      <td>M_AK001</td>\n",
       "      <td>AK_001_s1_20201113_173033</td>\n",
       "    </tr>\n",
       "    <tr>\n",
       "      <th>3</th>\n",
       "      <td>0</td>\n",
       "      <td>M_AK001-AK_001_s1_20201113_173033-4</td>\n",
       "      <td>M_AK001</td>\n",
       "      <td>AK_001_s1_20201113_173033</td>\n",
       "    </tr>\n",
       "    <tr>\n",
       "      <th>4</th>\n",
       "      <td>0</td>\n",
       "      <td>M_AK001-AK_001_s1_20201113_173033-5</td>\n",
       "      <td>M_AK001</td>\n",
       "      <td>AK_001_s1_20201113_173033</td>\n",
       "    </tr>\n",
       "    <tr>\n",
       "      <th>...</th>\n",
       "      <td>...</td>\n",
       "      <td>...</td>\n",
       "      <td>...</td>\n",
       "      <td>...</td>\n",
       "    </tr>\n",
       "    <tr>\n",
       "      <th>147926</th>\n",
       "      <td>1</td>\n",
       "      <td>M_ML009-ML_009_s1_20210720_164137-537</td>\n",
       "      <td>M_ML009</td>\n",
       "      <td>ML_009_s1_20210720_164137</td>\n",
       "    </tr>\n",
       "    <tr>\n",
       "      <th>147927</th>\n",
       "      <td>1</td>\n",
       "      <td>M_ML009-ML_009_s1_20210720_164137-538</td>\n",
       "      <td>M_ML009</td>\n",
       "      <td>ML_009_s1_20210720_164137</td>\n",
       "    </tr>\n",
       "    <tr>\n",
       "      <th>147928</th>\n",
       "      <td>1</td>\n",
       "      <td>M_ML009-ML_009_s1_20210720_164137-539</td>\n",
       "      <td>M_ML009</td>\n",
       "      <td>ML_009_s1_20210720_164137</td>\n",
       "    </tr>\n",
       "    <tr>\n",
       "      <th>147929</th>\n",
       "      <td>1</td>\n",
       "      <td>M_ML009-ML_009_s1_20210720_164137-540</td>\n",
       "      <td>M_ML009</td>\n",
       "      <td>ML_009_s1_20210720_164137</td>\n",
       "    </tr>\n",
       "    <tr>\n",
       "      <th>147930</th>\n",
       "      <td>1</td>\n",
       "      <td>M_ML009-ML_009_s1_20210720_164137-541</td>\n",
       "      <td>M_ML009</td>\n",
       "      <td>ML_009_s1_20210720_164137</td>\n",
       "    </tr>\n",
       "  </tbody>\n",
       "</table>\n",
       "<p>147931 rows × 4 columns</p>\n",
       "</div>"
      ],
      "text/plain": [
       "        zk                               trial_id   animal  \\\n",
       "0        0    M_AK001-AK_001_s1_20201113_173033-1  M_AK001   \n",
       "1        0    M_AK001-AK_001_s1_20201113_173033-2  M_AK001   \n",
       "2        0    M_AK001-AK_001_s1_20201113_173033-3  M_AK001   \n",
       "3        0    M_AK001-AK_001_s1_20201113_173033-4  M_AK001   \n",
       "4        0    M_AK001-AK_001_s1_20201113_173033-5  M_AK001   \n",
       "...     ..                                    ...      ...   \n",
       "147926   1  M_ML009-ML_009_s1_20210720_164137-537  M_ML009   \n",
       "147927   1  M_ML009-ML_009_s1_20210720_164137-538  M_ML009   \n",
       "147928   1  M_ML009-ML_009_s1_20210720_164137-539  M_ML009   \n",
       "147929   1  M_ML009-ML_009_s1_20210720_164137-540  M_ML009   \n",
       "147930   1  M_ML009-ML_009_s1_20210720_164137-541  M_ML009   \n",
       "\n",
       "                          session  \n",
       "0       AK_001_s1_20201113_173033  \n",
       "1       AK_001_s1_20201113_173033  \n",
       "2       AK_001_s1_20201113_173033  \n",
       "3       AK_001_s1_20201113_173033  \n",
       "4       AK_001_s1_20201113_173033  \n",
       "...                           ...  \n",
       "147926  ML_009_s1_20210720_164137  \n",
       "147927  ML_009_s1_20210720_164137  \n",
       "147928  ML_009_s1_20210720_164137  \n",
       "147929  ML_009_s1_20210720_164137  \n",
       "147930  ML_009_s1_20210720_164137  \n",
       "\n",
       "[147931 rows x 4 columns]"
      ]
     },
     "execution_count": 9,
     "metadata": {},
     "output_type": "execute_result"
    }
   ],
   "source": [
    "zkd"
   ]
  },
  {
   "cell_type": "code",
   "execution_count": null,
   "metadata": {},
   "outputs": [],
   "source": [
    "zkd"
   ]
  },
  {
   "cell_type": "code",
   "execution_count": 69,
   "metadata": {},
   "outputs": [],
   "source": [
    "def calc_switching_time(df: pd.DataFrame, normalize=True) -> pd.DataFrame:\n",
    "    switch_across_sessions = []\n",
    "    grouped_by_session = df.groupby(['session'])\n",
    "\n",
    "    for sess, df_s in grouped_by_session:\n",
    "        states_max_posterior = df_s['zk'].values\n",
    "        diffs = np.diff(states_max_posterior)\n",
    "        state_change_num = sum(np.abs(diffs) > 0)\n",
    "        if normalize:\n",
    "            state_change_num = state_change_num / len(states_max_posterior)\n",
    "\n",
    "        switch_across_sessions.append(state_change_num)\n",
    "    return switch_across_sessions"
   ]
  },
  {
   "cell_type": "code",
   "execution_count": 78,
   "metadata": {},
   "outputs": [],
   "source": [
    "goo = calc_switching_time(zkd, normalize=False)"
   ]
  },
  {
   "cell_type": "code",
   "execution_count": 79,
   "metadata": {},
   "outputs": [
    {
     "data": {
      "text/plain": [
       "[1,\n",
       " 0,\n",
       " 1,\n",
       " 0,\n",
       " 0,\n",
       " 0,\n",
       " 0,\n",
       " 0,\n",
       " 1,\n",
       " 1,\n",
       " 1,\n",
       " 1,\n",
       " 0,\n",
       " 0,\n",
       " 0,\n",
       " 0,\n",
       " 0,\n",
       " 1,\n",
       " 0,\n",
       " 1,\n",
       " 0,\n",
       " 0,\n",
       " 0,\n",
       " 0,\n",
       " 0,\n",
       " 0,\n",
       " 0,\n",
       " 0,\n",
       " 0]"
      ]
     },
     "execution_count": 79,
     "metadata": {},
     "output_type": "execute_result"
    }
   ],
   "source": [
    "goo"
   ]
  },
  {
   "cell_type": "code",
   "execution_count": null,
   "metadata": {},
   "outputs": [],
   "source": []
  },
  {
   "cell_type": "code",
   "execution_count": null,
   "metadata": {},
   "outputs": [],
   "source": [
    "# consider abort states_max_posterior nan"
   ]
  },
  {
   "cell_type": "code",
   "execution_count": null,
   "metadata": {},
   "outputs": [],
   "source": [
    "master_y_inpt, master_y, master_session, master_rt, master_stim_onset"
   ]
  }
 ],
 "metadata": {
  "kernelspec": {
   "display_name": "Python 3 (ipykernel)",
   "language": "python",
   "name": "python3"
  },
  "language_info": {
   "codemirror_mode": {
    "name": "ipython",
    "version": 3
   },
   "file_extension": ".py",
   "mimetype": "text/x-python",
   "name": "python",
   "nbconvert_exporter": "python",
   "pygments_lexer": "ipython3",
   "version": "3.7.6"
  }
 },
 "nbformat": 4,
 "nbformat_minor": 2
}
