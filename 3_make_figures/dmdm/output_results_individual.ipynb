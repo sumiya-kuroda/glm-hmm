{
 "cells": [
  {
   "cell_type": "markdown",
   "metadata": {},
   "source": [
    "## **Global output results**\n",
    "---\n"
   ]
  },
  {
   "cell_type": "code",
   "execution_count": 1,
   "metadata": {},
   "outputs": [],
   "source": [
    "%load_ext autoreload\n",
    "%autoreload 2"
   ]
  },
  {
   "cell_type": "code",
   "execution_count": 2,
   "metadata": {},
   "outputs": [
    {
     "name": "stderr",
     "output_type": "stream",
     "text": [
      "In /nfs/nhome/live/skuroda/.conda/envs/glmhmm/lib/python3.7/site-packages/matplotlib/mpl-data/stylelib/_classic_test.mplstyle: \n",
      "The text.latex.preview rcparam was deprecated in Matplotlib 3.3 and will be removed two minor releases later.\n",
      "In /nfs/nhome/live/skuroda/.conda/envs/glmhmm/lib/python3.7/site-packages/matplotlib/mpl-data/stylelib/_classic_test.mplstyle: \n",
      "The mathtext.fallback_to_cm rcparam was deprecated in Matplotlib 3.3 and will be removed two minor releases later.\n",
      "In /nfs/nhome/live/skuroda/.conda/envs/glmhmm/lib/python3.7/site-packages/matplotlib/mpl-data/stylelib/_classic_test.mplstyle: Support for setting the 'mathtext.fallback_to_cm' rcParam is deprecated since 3.3 and will be removed two minor releases later; use 'mathtext.fallback : 'cm' instead.\n",
      "In /nfs/nhome/live/skuroda/.conda/envs/glmhmm/lib/python3.7/site-packages/matplotlib/mpl-data/stylelib/_classic_test.mplstyle: \n",
      "The validate_bool_maybe_none function was deprecated in Matplotlib 3.3 and will be removed two minor releases later.\n",
      "In /nfs/nhome/live/skuroda/.conda/envs/glmhmm/lib/python3.7/site-packages/matplotlib/mpl-data/stylelib/_classic_test.mplstyle: \n",
      "The savefig.jpeg_quality rcparam was deprecated in Matplotlib 3.3 and will be removed two minor releases later.\n",
      "In /nfs/nhome/live/skuroda/.conda/envs/glmhmm/lib/python3.7/site-packages/matplotlib/mpl-data/stylelib/_classic_test.mplstyle: \n",
      "The keymap.all_axes rcparam was deprecated in Matplotlib 3.3 and will be removed two minor releases later.\n",
      "In /nfs/nhome/live/skuroda/.conda/envs/glmhmm/lib/python3.7/site-packages/matplotlib/mpl-data/stylelib/_classic_test.mplstyle: \n",
      "The animation.avconv_path rcparam was deprecated in Matplotlib 3.3 and will be removed two minor releases later.\n",
      "In /nfs/nhome/live/skuroda/.conda/envs/glmhmm/lib/python3.7/site-packages/matplotlib/mpl-data/stylelib/_classic_test.mplstyle: \n",
      "The animation.avconv_args rcparam was deprecated in Matplotlib 3.3 and will be removed two minor releases later.\n"
     ]
    }
   ],
   "source": [
    "import numpy as np\n",
    "from sklearn import preprocessing\n",
    "import json\n",
    "import sys\n",
    "import os\n",
    "import matplotlib.pyplot as plt\n",
    "import pandas as pd\n",
    "import seaborn as sns\n",
    "from pathlib import Path\n",
    "from collections import defaultdict\n",
    "\n",
    "sys.path.append('../../2_fit_models/dmdm')\n",
    "from data_io import get_file_dir, load_animal_list, load_cv_arr, load_data\n",
    "from data_labels import create_abort_mask, partition_data_by_session\n",
    "from plot_model_perform import create_cv_frame_for_plotting, plot_state_Wk, plot_state_dwelltime\n",
    "from plotting_utils import load_global_glmhmm_result, calc_dwell_time, flatten_list, load_glmhmm_result\n",
    "from plot_animal_behav import plot_PC, plot_CC, plot_FArate\n",
    "\n",
    "sys.path.append('../../1_preprocess_data/dmdm')\n",
    "from preprocessing_utils import load_animal_eid_dict\n",
    "import matplotlib.ticker as ticker"
   ]
  },
  {
   "cell_type": "code",
   "execution_count": 3,
   "metadata": {},
   "outputs": [],
   "source": [
    "# ------- setup variables -------\n",
    "dnames = ['dataAllHumans', 'dataAllMiceTraining']\n",
    "C = 3  # number of output types/categories\n",
    "D = 1  # data (observations) dimension\n",
    "labels_for_plot_y = ['CSize', 'COnset', 'Outcome +1', 'Outcome +2', 'Outcome +3', 'Outcome +4', 'Outcome +5', 'bias']\n",
    "\n",
    "save_figures = True\n",
    "figure_dir = get_file_dir().parents[1] / 'figures'\n",
    "figure_dir.mkdir(parents=True, exist_ok=True)\n",
    "\n",
    "model = 'GLM_HMM_y'\n",
    "Ks = [2,4]"
   ]
  },
  {
   "cell_type": "code",
   "execution_count": 4,
   "metadata": {},
   "outputs": [],
   "source": [
    "dnames = ['dataAllHumans']\n",
    "Ks = [2]"
   ]
  },
  {
   "cell_type": "code",
   "execution_count": 5,
   "metadata": {},
   "outputs": [],
   "source": [
    "dname = 'dataAllMiceTraining'\n",
    "K = 3\n",
    "dnames = ['dataAllMiceTraining']\n",
    "Ks = [3]"
   ]
  },
  {
   "cell_type": "code",
   "execution_count": 6,
   "metadata": {},
   "outputs": [],
   "source": [
    "regularization = None"
   ]
  },
  {
   "cell_type": "code",
   "execution_count": 7,
   "metadata": {},
   "outputs": [],
   "source": [
    "data_dir =  get_file_dir().parents[1] / \"data\" / \"dmdm\" / dname / 'data_for_cluster'"
   ]
  },
  {
   "cell_type": "code",
   "execution_count": 8,
   "metadata": {},
   "outputs": [
    {
     "name": "stdout",
     "output_type": "stream",
     "text": [
      "Animals fitted: ['M_AK001' 'M_AK004' 'M_AK005' 'M_AK008' 'M_IO125' 'M_IO127' 'M_IO128'\n",
      " 'M_IO132' 'M_IO135' 'M_IO136' 'M_IO137' 'M_IO138' 'M_ML007' 'M_ML008']\n"
     ]
    }
   ],
   "source": [
    "# ------- setup path and load data -------\n",
    "data_2_dir =  get_file_dir().parents[1] / \"data\" / \"dmdm\" / dname / 'data_for_cluster' / \"data_by_animal\"\n",
    "results_2_dir = get_file_dir().parents[1] / \"results\" / \"dmdm_individual_fit\" / dname\n",
    "figure_dir = get_file_dir().parents[1] / 'figures'\n",
    "figure_dir.mkdir(parents=True, exist_ok=True)\n",
    "\n",
    "# read in data and train/test split\n",
    "animal_list = load_animal_list(data_2_dir / 'animal_list.npz')\n",
    "\n",
    "print('Animals fitted: {}'.format(animal_list))"
   ]
  },
  {
   "cell_type": "code",
   "execution_count": 9,
   "metadata": {},
   "outputs": [],
   "source": [
    "# Load raw data eids\n",
    "animal_list = load_animal_list(\n",
    "    data_dir / 'data_by_animal' / 'animal_list.npz')\n",
    "animal_eid_dict = load_animal_eid_dict(\n",
    "    data_dir / 'final_animal_eid_dict.json')"
   ]
  },
  {
   "cell_type": "code",
   "execution_count": 20,
   "metadata": {},
   "outputs": [
    {
     "name": "stdout",
     "output_type": "stream",
     "text": [
      "M_AK001\n",
      "M_AK004\n",
      "M_AK005\n",
      "M_AK008\n",
      "M_IO125\n",
      "M_IO127\n",
      "M_IO128\n",
      "M_IO132\n",
      "M_IO135\n",
      "M_IO136\n",
      "M_IO137\n",
      "M_IO138\n",
      "M_ML007\n",
      "M_ML008\n"
     ]
    }
   ],
   "source": [
    "# Each animal\n",
    "for animal in animal_list:\n",
    "    # Load GLM-HMM results\n",
    "    states_max_posterior, _, inpt_rt, _, session, _, _, mask, hmm_params \\\n",
    "        = load_glmhmm_result(animal, K, model, results_2_dir, data_2_dir)\n",
    "\n",
    "    # Create trial IDs\n",
    "    trialnum_all = []\n",
    "    for eid in animal_eid_dict[animal]:\n",
    "\n",
    "        raw_session_id = eid.split('Subjects/')[1]\n",
    "        # Get animal:\n",
    "        animal = raw_session_id.split('/')[0]\n",
    "        # Replace '/' with dash in session ID\n",
    "        session_id = raw_session_id.replace('/', '-')\n",
    "\n",
    "        trialnum = np.load(data_dir.parent / Path(eid) / '_dmdm_trials.trial.npy')[0]\n",
    "        trialnum2 = [session_id + '-' + str(int(t)) for t in trialnum]\n",
    "        trialnum_all.append(trialnum2)\n",
    "\n",
    "    # Save outputs in json file\n",
    "    rdict = defaultdict(list)\n",
    "    for zk in range(K):\n",
    "        b = np.where(states_max_posterior == zk)\n",
    "        x = np.array(flatten_list(trialnum_all))[b]\n",
    "        rdict[zk] = x.tolist()\n",
    "\n",
    "    out_json = json.dumps(rdict)\n",
    "    f = open(str(figure_dir / \"state_session_trial_{}_K_{}_{}_{}.json\".format(dname, K, regularization, animal)), \"w\")\n",
    "    f.write(out_json)\n",
    "    f.close()"
   ]
  },
  {
   "cell_type": "code",
   "execution_count": 10,
   "metadata": {},
   "outputs": [],
   "source": [
    "bestK_animals = {'M_AK001':2, 'M_AK004':3, 'M_AK005':3,\n",
    "              'M_AK008':3, 'M_IO125':3,  'M_IO127':3,  \n",
    "              'M_IO128':2, 'M_IO132':2,  'M_IO135':2, \n",
    "              'M_IO136':2, 'M_IO137':2,  'M_IO138':3,  \n",
    "              'M_ML007':3, 'M_ML008':3}"
   ]
  },
  {
   "cell_type": "code",
   "execution_count": 11,
   "metadata": {},
   "outputs": [
    {
     "name": "stdout",
     "output_type": "stream",
     "text": [
      "M_AK001\n",
      "M_AK004\n",
      "M_AK005\n",
      "M_AK008\n",
      "M_IO125\n",
      "M_IO127\n",
      "M_IO128\n",
      "M_IO132\n",
      "M_IO135\n",
      "M_IO136\n",
      "M_IO137\n",
      "M_IO138\n",
      "M_ML007\n",
      "M_ML008\n"
     ]
    }
   ],
   "source": [
    "# Each animal\n",
    "for animal in animal_list:\n",
    "    # Load GLM-HMM results\n",
    "    Kanimal = bestK_animals[animal]\n",
    "    states_max_posterior, _, inpt_rt, _, session, _, _, mask, hmm_params \\\n",
    "        = load_glmhmm_result(animal, Kanimal, model, results_2_dir, data_2_dir)\n",
    "\n",
    "    # Create trial IDs\n",
    "    trialnum_all = []\n",
    "    for eid in animal_eid_dict[animal]:\n",
    "\n",
    "        raw_session_id = eid.split('Subjects/')[1]\n",
    "        # Get animal:\n",
    "        animal = raw_session_id.split('/')[0]\n",
    "        # Replace '/' with dash in session ID\n",
    "        session_id = raw_session_id.replace('/', '-')\n",
    "\n",
    "        trialnum = np.load(data_dir.parent / Path(eid) / '_dmdm_trials.trial.npy')[0]\n",
    "        trialnum2 = [session_id + '-' + str(int(t)) for t in trialnum]\n",
    "        trialnum_all.append(trialnum2)\n",
    "\n",
    "    # Save outputs in json file\n",
    "    rdict = defaultdict(list)\n",
    "    for zk in range(K):\n",
    "        b = np.where(states_max_posterior == zk)\n",
    "        x = np.array(flatten_list(trialnum_all))[b]\n",
    "        rdict[zk] = x.tolist()\n",
    "\n",
    "    out_json = json.dumps(rdict)\n",
    "    f = open(str(figure_dir / \"state_session_trial_{}_Kbest_{}_{}_{}.json\".format(dname, K, regularization, animal)), \"w\")\n",
    "    f.write(out_json)\n",
    "    f.close()"
   ]
  },
  {
   "cell_type": "markdown",
   "metadata": {},
   "source": []
  },
  {
   "cell_type": "code",
   "execution_count": 9,
   "metadata": {},
   "outputs": [
    {
     "data": {
      "image/png": "[encoded data removed]",
      "text/plain": [
       "<Figure size 640x480 with 1 Axes>"
      ]
     },
     "metadata": {},
     "output_type": "display_data"
    }
   ],
   "source": [
    "for i, dname in enumerate(dnames):\n",
    "    K = Ks[i]\n",
    "\n",
    "    data_dir =  get_file_dir().parents[1] / \"data\" / \"dmdm\" / dname / 'data_for_cluster'\n",
    "    # results_dir = get_file_dir().parents[1] / \"results\" / \"dmdm_global_fit\" / dname\n",
    "\n",
    "    # Load GLM-HMM results\n",
    "    states_max_posterior, _, inpt_rt, _, session, _, _, mask, hmm_params \\\n",
    "        = load_global_glmhmm_result(K, model, data_dir, regularization)\n",
    "\n",
    "    # Load raw data eids\n",
    "    animal_list = load_animal_list(\n",
    "        data_dir / 'data_by_animal' / 'animal_list.npz')\n",
    "    animal_eid_dict = load_animal_eid_dict(\n",
    "        data_dir / 'final_animal_eid_dict.json')\n",
    "\n",
    "    # Create trial IDs\n",
    "    trialnum_all = []\n",
    "    for z, animal in enumerate(animal_list):\n",
    "        sess_counter = 0\n",
    "        for eid in animal_eid_dict[animal]:\n",
    "\n",
    "            raw_session_id = eid.split('Subjects/')[1]\n",
    "            # Get animal:\n",
    "            animal = raw_session_id.split('/')[0]\n",
    "            # Replace '/' with dash in session ID\n",
    "            session_id = raw_session_id.replace('/', '-')\n",
    "\n",
    "            trialnum = np.load(data_dir.parent / Path(eid) / '_dmdm_trials.trial.npy')[0]\n",
    "            trialnum2 = [session_id + '-' + str(int(t)) for t in trialnum]\n",
    "            trialnum_all.append(trialnum2)\n",
    "\n",
    "    # Save outputs in json file\n",
    "    rdict = defaultdict(list)\n",
    "    for zk in range(K):\n",
    "        b = np.where(states_max_posterior == zk)\n",
    "        x = np.array(flatten_list(trialnum_all))[b]\n",
    "        rdict[zk] = x.tolist()\n",
    "\n",
    "    out_json = json.dumps(rdict)\n",
    "    f = open(str(figure_dir / \"state_session_trial_{}_K_{}_{}.json\".format(dname, K, regularization)), \"w\")\n",
    "    f.write(out_json)\n",
    "    f.close()\n",
    "\n",
    "    zkd = pd.DataFrame(\n",
    "        {'zk': states_max_posterior,\n",
    "        'trial_ids': flatten_list(trialnum_all)\n",
    "        })\n",
    "\n",
    "    zkd = pd.DataFrame(\n",
    "        {'zk': states_max_posterior,\n",
    "        'trial_ids': flatten_list(trialnum_all)\n",
    "        })\n",
    "\n",
    "    if dname == 'dataAllHumans':\n",
    "        zkd['animals'] = 'H' + zkd.trial_ids.str.split('_').str[3]\n",
    "        zkd['sessions'] = zkd.trial_ids.str.split('-').str[1]\n",
    "    elif dname == 'dataAllMiceTraining':\n",
    "        zkd['animals'] = zkd.trial_ids.str.split('-').str[0]\n",
    "        zkd['sessions'] = zkd.trial_ids.str.split('-').str[1]\n",
    "\n",
    "    zk_fraction_occupancy = zkd.groupby(['animals'])['zk'].value_counts(normalize=True).unstack().fillna(0)\n",
    "    ax = zk_fraction_occupancy.plot.bar(stacked=True)"
   ]
  },
  {
   "cell_type": "code",
   "execution_count": 7,
   "metadata": {},
   "outputs": [],
   "source": [
    "data_dir =  get_file_dir().parents[1] / \"data\" / \"dmdm\" / dname / 'data_for_cluster'\n",
    "results_dir = get_file_dir().parents[1] / \"results\" / \"dmdm_global_fit\" / dname\n",
    "\n",
    "# Load GLM-HMM results\n",
    "states_max_posterior, _, inpt_rt, _, session, _, stim_onset, mask, hmm_params \\\n",
    "    = load_global_glmhmm_result(K, model, data_dir)\n",
    "\n",
    "# Load raw data eids\n",
    "animal_list = load_animal_list(\n",
    "    data_dir / 'data_by_animal' / 'animal_list.npz')\n",
    "animal_eid_dict = load_animal_eid_dict(\n",
    "    data_dir / 'final_animal_eid_dict.json')\n",
    "\n",
    "# Create trial IDs\n",
    "trialnum_all = []\n",
    "for z, animal in enumerate(animal_list):\n",
    "    sess_counter = 0\n",
    "    for eid in animal_eid_dict[animal]:\n",
    "\n",
    "        raw_session_id = eid.split('Subjects/')[1]\n",
    "        # Get animal:\n",
    "        animal = raw_session_id.split('/')[0]\n",
    "        # Replace '/' with dash in session ID\n",
    "        session_id = raw_session_id.replace('/', '-')\n",
    "\n",
    "        trialnum = np.load(data_dir.parent / Path(eid) / '_dmdm_trials.trial.npy')[0]\n",
    "        trialnum2 = [session_id + '-' + str(int(t)) for t in trialnum]\n",
    "        trialnum_all.append(trialnum2)"
   ]
  },
  {
   "cell_type": "code",
   "execution_count": 8,
   "metadata": {},
   "outputs": [],
   "source": [
    "zkd = pd.DataFrame(\n",
    "    {'zk': states_max_posterior,\n",
    "     'trial_id': flatten_list(trialnum_all)\n",
    "    })\n",
    "\n",
    "if dname == 'dataAllHumans':\n",
    "    zkd['animal'] = 'H' + zkd.trial_id.str.split('_').str[3]\n",
    "    zkd['session'] = zkd.trial_id.str.split('-').str[1]\n",
    "elif dname == 'dataAllMiceTraining':\n",
    "    zkd['animal'] = zkd.trial_id.str.split('-').str[0]\n",
    "    zkd['session'] = zkd.trial_id.str.split('-').str[1]"
   ]
  },
  {
   "cell_type": "code",
   "execution_count": 9,
   "metadata": {},
   "outputs": [],
   "source": [
    "zk_fraction_occupancy = zkd.groupby(['animal'])['zk'].value_counts(normalize=True).unstack().fillna(0)"
   ]
  },
  {
   "cell_type": "code",
   "execution_count": 10,
   "metadata": {},
   "outputs": [
    {
     "data": {
      "image/png": "[encoded data removed]",
      "text/plain": [
       "<Figure size 640x480 with 1 Axes>"
      ]
     },
     "metadata": {},
     "output_type": "display_data"
    }
   ],
   "source": [
    "ax = zk_fraction_occupancy.plot.bar(stacked=True)"
   ]
  },
  {
   "cell_type": "code",
   "execution_count": null,
   "metadata": {},
   "outputs": [],
   "source": []
  },
  {
   "cell_type": "code",
   "execution_count": null,
   "metadata": {},
   "outputs": [],
   "source": [
    "np.where(states_max_posterior == 0)[0]"
   ]
  },
  {
   "cell_type": "code",
   "execution_count": null,
   "metadata": {},
   "outputs": [],
   "source": [
    "a = stim_onset[np.where(states_max_posterior == 0)[0],:]"
   ]
  },
  {
   "cell_type": "code",
   "execution_count": null,
   "metadata": {},
   "outputs": [],
   "source": [
    "len(a)"
   ]
  },
  {
   "cell_type": "code",
   "execution_count": null,
   "metadata": {},
   "outputs": [],
   "source": [
    "sum(a<10)"
   ]
  },
  {
   "cell_type": "code",
   "execution_count": null,
   "metadata": {},
   "outputs": [],
   "source": [
    "b = stim_onset[np.where(states_max_posterior == 1)[0],:]"
   ]
  },
  {
   "cell_type": "code",
   "execution_count": null,
   "metadata": {},
   "outputs": [],
   "source": [
    "len(b)"
   ]
  },
  {
   "cell_type": "code",
   "execution_count": null,
   "metadata": {},
   "outputs": [],
   "source": [
    "sum(b<10)"
   ]
  },
  {
   "cell_type": "code",
   "execution_count": null,
   "metadata": {},
   "outputs": [],
   "source": []
  },
  {
   "cell_type": "code",
   "execution_count": null,
   "metadata": {},
   "outputs": [],
   "source": [
    "zkd"
   ]
  },
  {
   "cell_type": "code",
   "execution_count": null,
   "metadata": {},
   "outputs": [],
   "source": [
    "zkd"
   ]
  },
  {
   "cell_type": "code",
   "execution_count": null,
   "metadata": {},
   "outputs": [],
   "source": [
    "def calc_switching_time(df: pd.DataFrame, normalize=True) -> pd.DataFrame:\n",
    "    switch_across_sessions = []\n",
    "    grouped_by_session = df.groupby(['session'])\n",
    "\n",
    "    for sess, df_s in grouped_by_session:\n",
    "        states_max_posterior = df_s['zk'].values\n",
    "        diffs = np.diff(states_max_posterior)\n",
    "        state_change_num = sum(np.abs(diffs) > 0)\n",
    "        if normalize:\n",
    "            state_change_num = state_change_num / len(states_max_posterior)\n",
    "\n",
    "        switch_across_sessions.append(state_change_num)\n",
    "    return switch_across_sessions"
   ]
  },
  {
   "cell_type": "code",
   "execution_count": null,
   "metadata": {},
   "outputs": [],
   "source": [
    "goo = calc_switching_time(zkd, normalize=False)"
   ]
  },
  {
   "cell_type": "code",
   "execution_count": null,
   "metadata": {},
   "outputs": [],
   "source": [
    "goo"
   ]
  },
  {
   "cell_type": "code",
   "execution_count": null,
   "metadata": {},
   "outputs": [],
   "source": []
  },
  {
   "cell_type": "code",
   "execution_count": null,
   "metadata": {},
   "outputs": [],
   "source": [
    "# consider abort states_max_posterior nan"
   ]
  },
  {
   "cell_type": "code",
   "execution_count": null,
   "metadata": {},
   "outputs": [],
   "source": [
    "master_y_inpt, master_y, master_session, master_rt, master_stim_onset"
   ]
  }
 ],
 "metadata": {
  "kernelspec": {
   "display_name": "Python 3",
   "language": "python",
   "name": "python3"
  },
  "language_info": {
   "codemirror_mode": {
    "name": "ipython",
    "version": 3
   },
   "file_extension": ".py",
   "mimetype": "text/x-python",
   "name": "python",
   "nbconvert_exporter": "python",
   "pygments_lexer": "ipython3",
   "version": "3.7.6"
  }
 },
 "nbformat": 4,
 "nbformat_minor": 2
}
