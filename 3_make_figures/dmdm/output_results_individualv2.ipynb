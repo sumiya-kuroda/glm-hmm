{
 "cells": [
  {
   "cell_type": "markdown",
   "metadata": {},
   "source": [
    "## **Global output results**\n",
    "---\n"
   ]
  },
  {
   "cell_type": "code",
   "execution_count": 1,
   "metadata": {},
   "outputs": [],
   "source": [
    "%load_ext autoreload\n",
    "%autoreload 2"
   ]
  },
  {
   "cell_type": "code",
   "execution_count": 2,
   "metadata": {},
   "outputs": [
    {
     "name": "stderr",
     "output_type": "stream",
     "text": [
      "In /nfs/nhome/live/skuroda/.conda/envs/glmhmm/lib/python3.7/site-packages/matplotlib/mpl-data/stylelib/_classic_test.mplstyle: \n",
      "The text.latex.preview rcparam was deprecated in Matplotlib 3.3 and will be removed two minor releases later.\n",
      "In /nfs/nhome/live/skuroda/.conda/envs/glmhmm/lib/python3.7/site-packages/matplotlib/mpl-data/stylelib/_classic_test.mplstyle: \n",
      "The mathtext.fallback_to_cm rcparam was deprecated in Matplotlib 3.3 and will be removed two minor releases later.\n",
      "In /nfs/nhome/live/skuroda/.conda/envs/glmhmm/lib/python3.7/site-packages/matplotlib/mpl-data/stylelib/_classic_test.mplstyle: Support for setting the 'mathtext.fallback_to_cm' rcParam is deprecated since 3.3 and will be removed two minor releases later; use 'mathtext.fallback : 'cm' instead.\n",
      "In /nfs/nhome/live/skuroda/.conda/envs/glmhmm/lib/python3.7/site-packages/matplotlib/mpl-data/stylelib/_classic_test.mplstyle: \n",
      "The validate_bool_maybe_none function was deprecated in Matplotlib 3.3 and will be removed two minor releases later.\n",
      "In /nfs/nhome/live/skuroda/.conda/envs/glmhmm/lib/python3.7/site-packages/matplotlib/mpl-data/stylelib/_classic_test.mplstyle: \n",
      "The savefig.jpeg_quality rcparam was deprecated in Matplotlib 3.3 and will be removed two minor releases later.\n",
      "In /nfs/nhome/live/skuroda/.conda/envs/glmhmm/lib/python3.7/site-packages/matplotlib/mpl-data/stylelib/_classic_test.mplstyle: \n",
      "The keymap.all_axes rcparam was deprecated in Matplotlib 3.3 and will be removed two minor releases later.\n",
      "In /nfs/nhome/live/skuroda/.conda/envs/glmhmm/lib/python3.7/site-packages/matplotlib/mpl-data/stylelib/_classic_test.mplstyle: \n",
      "The animation.avconv_path rcparam was deprecated in Matplotlib 3.3 and will be removed two minor releases later.\n",
      "In /nfs/nhome/live/skuroda/.conda/envs/glmhmm/lib/python3.7/site-packages/matplotlib/mpl-data/stylelib/_classic_test.mplstyle: \n",
      "The animation.avconv_args rcparam was deprecated in Matplotlib 3.3 and will be removed two minor releases later.\n"
     ]
    }
   ],
   "source": [
    "import numpy as np\n",
    "from sklearn import preprocessing\n",
    "import json\n",
    "import sys\n",
    "import os\n",
    "import matplotlib.pyplot as plt\n",
    "import pandas as pd\n",
    "import seaborn as sns\n",
    "from pathlib import Path\n",
    "from collections import defaultdict\n",
    "\n",
    "sys.path.append('../../2_fit_models/dmdm')\n",
    "from data_io import get_file_dir, load_animal_list, load_cv_arr, load_data\n",
    "from data_labels import create_abort_mask, partition_data_by_session\n",
    "from plot_model_perform import create_cv_frame_for_plotting, plot_state_Wk, plot_state_dwelltime\n",
    "from plotting_utils import load_global_glmhmm_result, calc_dwell_time, flatten_list, load_glmhmm_result\n",
    "from plot_animal_behav import plot_PC, plot_CC, plot_FArate\n",
    "\n",
    "sys.path.append('../../1_preprocess_data/dmdm')\n",
    "from preprocessing_utils import load_animal_eid_dict\n",
    "import matplotlib.ticker as ticker"
   ]
  },
  {
   "cell_type": "code",
   "execution_count": 3,
   "metadata": {},
   "outputs": [],
   "source": [
    "# ------- setup variables -------\n",
    "dnames = ['dataAllHumans', 'dataAllMiceTraining']\n",
    "C = 3  # number of output types/categories\n",
    "D = 1  # data (observations) dimension\n",
    "labels_for_plot_y = ['CSize', 'COnset', 'Outcome +1', 'Outcome +2', 'Outcome +3', 'Outcome +4', 'Outcome +5', 'bias']\n",
    "\n",
    "save_figures = True\n",
    "figure_dir = get_file_dir().parents[1] / 'figures'\n",
    "figure_dir.mkdir(parents=True, exist_ok=True)\n",
    "\n",
    "model = 'GLM_HMM_y'\n",
    "Ks = [2,4]"
   ]
  },
  {
   "cell_type": "code",
   "execution_count": 4,
   "metadata": {},
   "outputs": [],
   "source": [
    "dname = 'dataAllMiceTraining'"
   ]
  },
  {
   "cell_type": "code",
   "execution_count": 5,
   "metadata": {},
   "outputs": [],
   "source": [
    "regularization = None"
   ]
  },
  {
   "cell_type": "code",
   "execution_count": 6,
   "metadata": {},
   "outputs": [],
   "source": [
    "data_dir =  get_file_dir().parents[1] / \"data\" / \"dmdm\" / dname / 'data_for_cluster'"
   ]
  },
  {
   "cell_type": "code",
   "execution_count": 7,
   "metadata": {},
   "outputs": [
    {
     "name": "stdout",
     "output_type": "stream",
     "text": [
      "Animals fitted: ['M_AK001' 'M_AK004' 'M_AK005' 'M_AK008' 'M_IO125' 'M_IO127' 'M_IO128'\n",
      " 'M_IO132' 'M_IO135' 'M_IO136' 'M_IO137' 'M_IO138' 'M_ML007' 'M_ML008']\n"
     ]
    }
   ],
   "source": [
    "# ------- setup path and load data -------\n",
    "data_2_dir =  get_file_dir().parents[1] / \"data\" / \"dmdm\" / dname / 'data_for_cluster' / \"data_by_animal\"\n",
    "results_2_dir = get_file_dir().parents[1] / \"results\" / \"dmdm_individual_fit\" / dname\n",
    "figure_dir = get_file_dir().parents[1] / 'figures'\n",
    "figure_dir.mkdir(parents=True, exist_ok=True)\n",
    "\n",
    "# read in data and train/test split\n",
    "animal_list = load_animal_list(data_2_dir / 'animal_list.npz')\n",
    "\n",
    "print('Animals fitted: {}'.format(animal_list))"
   ]
  },
  {
   "cell_type": "code",
   "execution_count": 8,
   "metadata": {},
   "outputs": [],
   "source": [
    "# Load raw data eids\n",
    "animal_list = load_animal_list(\n",
    "    data_dir / 'data_by_animal' / 'animal_list.npz')\n",
    "animal_eid_dict = load_animal_eid_dict(\n",
    "    data_dir / 'final_animal_eid_dict.json')"
   ]
  },
  {
   "cell_type": "code",
   "execution_count": 9,
   "metadata": {},
   "outputs": [],
   "source": [
    "bestK_animals = {'M_AK001':2, 'M_AK004':3, 'M_AK005':3,\n",
    "              'M_AK008':3, 'M_IO125':3,  'M_IO127':3,  \n",
    "              'M_IO128':2, 'M_IO132':2,  'M_IO135':2, \n",
    "              'M_IO136':2, 'M_IO137':2,  'M_IO138':3,  \n",
    "              'M_ML007':3, 'M_ML008':3}"
   ]
  },
  {
   "cell_type": "code",
   "execution_count": 12,
   "metadata": {},
   "outputs": [
    {
     "name": "stdout",
     "output_type": "stream",
     "text": [
      "Saving individual GLMHMM results ...\n",
      "dname: dataAllMiceTraining; animal: M_AK001; model: GLM_HMM_y; regularization: None, state_num: 2; data_input dataAllMiceTraining_allsessions\n",
      "Saving individual GLMHMM results ...\n",
      "dname: dataAllMiceTraining; animal: M_AK001; model: GLM_HMM_y; regularization: None, state_num: 3; data_input dataAllMiceTraining_allsessions\n",
      "Saving individual GLMHMM results ...\n",
      "dname: dataAllMiceTraining; animal: M_AK004; model: GLM_HMM_y; regularization: None, state_num: 2; data_input dataAllMiceTraining_allsessions\n",
      "Saving individual GLMHMM results ...\n",
      "dname: dataAllMiceTraining; animal: M_AK004; model: GLM_HMM_y; regularization: None, state_num: 3; data_input dataAllMiceTraining_allsessions\n",
      "Saving individual GLMHMM results ...\n",
      "dname: dataAllMiceTraining; animal: M_AK005; model: GLM_HMM_y; regularization: None, state_num: 2; data_input dataAllMiceTraining_allsessions\n",
      "Saving individual GLMHMM results ...\n",
      "dname: dataAllMiceTraining; animal: M_AK005; model: GLM_HMM_y; regularization: None, state_num: 3; data_input dataAllMiceTraining_allsessions\n",
      "Saving individual GLMHMM results ...\n",
      "dname: dataAllMiceTraining; animal: M_AK008; model: GLM_HMM_y; regularization: None, state_num: 2; data_input dataAllMiceTraining_allsessions\n",
      "Saving individual GLMHMM results ...\n",
      "dname: dataAllMiceTraining; animal: M_AK008; model: GLM_HMM_y; regularization: None, state_num: 3; data_input dataAllMiceTraining_allsessions\n",
      "Saving individual GLMHMM results ...\n",
      "dname: dataAllMiceTraining; animal: M_IO125; model: GLM_HMM_y; regularization: None, state_num: 2; data_input dataAllMiceTraining_allsessions\n",
      "Saving individual GLMHMM results ...\n",
      "dname: dataAllMiceTraining; animal: M_IO125; model: GLM_HMM_y; regularization: None, state_num: 3; data_input dataAllMiceTraining_allsessions\n",
      "Saving individual GLMHMM results ...\n",
      "dname: dataAllMiceTraining; animal: M_IO127; model: GLM_HMM_y; regularization: None, state_num: 2; data_input dataAllMiceTraining_allsessions\n",
      "Saving individual GLMHMM results ...\n",
      "dname: dataAllMiceTraining; animal: M_IO127; model: GLM_HMM_y; regularization: None, state_num: 3; data_input dataAllMiceTraining_allsessions\n",
      "Saving individual GLMHMM results ...\n",
      "dname: dataAllMiceTraining; animal: M_IO128; model: GLM_HMM_y; regularization: None, state_num: 2; data_input dataAllMiceTraining_allsessions\n",
      "Saving individual GLMHMM results ...\n",
      "dname: dataAllMiceTraining; animal: M_IO128; model: GLM_HMM_y; regularization: None, state_num: 3; data_input dataAllMiceTraining_allsessions\n",
      "Saving individual GLMHMM results ...\n",
      "dname: dataAllMiceTraining; animal: M_IO132; model: GLM_HMM_y; regularization: None, state_num: 2; data_input dataAllMiceTraining_allsessions\n",
      "Saving individual GLMHMM results ...\n",
      "dname: dataAllMiceTraining; animal: M_IO132; model: GLM_HMM_y; regularization: None, state_num: 3; data_input dataAllMiceTraining_allsessions\n",
      "Saving individual GLMHMM results ...\n",
      "dname: dataAllMiceTraining; animal: M_IO135; model: GLM_HMM_y; regularization: None, state_num: 2; data_input dataAllMiceTraining_allsessions\n",
      "Saving individual GLMHMM results ...\n",
      "dname: dataAllMiceTraining; animal: M_IO135; model: GLM_HMM_y; regularization: None, state_num: 3; data_input dataAllMiceTraining_allsessions\n",
      "Saving individual GLMHMM results ...\n",
      "dname: dataAllMiceTraining; animal: M_IO136; model: GLM_HMM_y; regularization: None, state_num: 2; data_input dataAllMiceTraining_allsessions\n",
      "Saving individual GLMHMM results ...\n",
      "dname: dataAllMiceTraining; animal: M_IO136; model: GLM_HMM_y; regularization: None, state_num: 3; data_input dataAllMiceTraining_allsessions\n",
      "Saving individual GLMHMM results ...\n",
      "dname: dataAllMiceTraining; animal: M_IO137; model: GLM_HMM_y; regularization: None, state_num: 2; data_input dataAllMiceTraining_allsessions\n",
      "Saving individual GLMHMM results ...\n",
      "dname: dataAllMiceTraining; animal: M_IO137; model: GLM_HMM_y; regularization: None, state_num: 3; data_input dataAllMiceTraining_allsessions\n",
      "Saving individual GLMHMM results ...\n",
      "dname: dataAllMiceTraining; animal: M_IO138; model: GLM_HMM_y; regularization: None, state_num: 2; data_input dataAllMiceTraining_allsessions\n",
      "Saving individual GLMHMM results ...\n",
      "dname: dataAllMiceTraining; animal: M_IO138; model: GLM_HMM_y; regularization: None, state_num: 3; data_input dataAllMiceTraining_allsessions\n",
      "Saving individual GLMHMM results ...\n",
      "dname: dataAllMiceTraining; animal: M_ML007; model: GLM_HMM_y; regularization: None, state_num: 2; data_input dataAllMiceTraining_allsessions\n",
      "Saving individual GLMHMM results ...\n",
      "dname: dataAllMiceTraining; animal: M_ML007; model: GLM_HMM_y; regularization: None, state_num: 3; data_input dataAllMiceTraining_allsessions\n",
      "Saving individual GLMHMM results ...\n",
      "dname: dataAllMiceTraining; animal: M_ML008; model: GLM_HMM_y; regularization: None, state_num: 2; data_input dataAllMiceTraining_allsessions\n",
      "Saving individual GLMHMM results ...\n",
      "dname: dataAllMiceTraining; animal: M_ML008; model: GLM_HMM_y; regularization: None, state_num: 3; data_input dataAllMiceTraining_allsessions\n"
     ]
    }
   ],
   "source": [
    "for animal in animal_list:\n",
    "    for K in [2,3]:\n",
    "        %run -i ./output_glmhmm_states_individual.py -d {dname} -a {animal} -m {model} -K {K} --no-bestK -r {regularization} -s allsessions"
   ]
  },
  {
   "cell_type": "code",
   "execution_count": 13,
   "metadata": {},
   "outputs": [
    {
     "name": "stdout",
     "output_type": "stream",
     "text": [
      "Saving individual GLMHMM results ...\n",
      "dname: dataAllMiceTraining; animal: M_AK001; model: GLM_HMM_y; regularization: None, state_num: 2; data_input dataAllMiceTraining_allsessions\n",
      "Saving individual GLMHMM results ...\n",
      "dname: dataAllMiceTraining; animal: M_AK004; model: GLM_HMM_y; regularization: None, state_num: 3; data_input dataAllMiceTraining_allsessions\n",
      "Saving individual GLMHMM results ...\n",
      "dname: dataAllMiceTraining; animal: M_AK005; model: GLM_HMM_y; regularization: None, state_num: 3; data_input dataAllMiceTraining_allsessions\n",
      "Saving individual GLMHMM results ...\n",
      "dname: dataAllMiceTraining; animal: M_AK008; model: GLM_HMM_y; regularization: None, state_num: 3; data_input dataAllMiceTraining_allsessions\n",
      "Saving individual GLMHMM results ...\n",
      "dname: dataAllMiceTraining; animal: M_IO125; model: GLM_HMM_y; regularization: None, state_num: 3; data_input dataAllMiceTraining_allsessions\n",
      "Saving individual GLMHMM results ...\n",
      "dname: dataAllMiceTraining; animal: M_IO127; model: GLM_HMM_y; regularization: None, state_num: 3; data_input dataAllMiceTraining_allsessions\n",
      "Saving individual GLMHMM results ...\n",
      "dname: dataAllMiceTraining; animal: M_IO128; model: GLM_HMM_y; regularization: None, state_num: 2; data_input dataAllMiceTraining_allsessions\n",
      "Saving individual GLMHMM results ...\n",
      "dname: dataAllMiceTraining; animal: M_IO132; model: GLM_HMM_y; regularization: None, state_num: 2; data_input dataAllMiceTraining_allsessions\n",
      "Saving individual GLMHMM results ...\n",
      "dname: dataAllMiceTraining; animal: M_IO135; model: GLM_HMM_y; regularization: None, state_num: 2; data_input dataAllMiceTraining_allsessions\n",
      "Saving individual GLMHMM results ...\n",
      "dname: dataAllMiceTraining; animal: M_IO136; model: GLM_HMM_y; regularization: None, state_num: 2; data_input dataAllMiceTraining_allsessions\n",
      "Saving individual GLMHMM results ...\n",
      "dname: dataAllMiceTraining; animal: M_IO137; model: GLM_HMM_y; regularization: None, state_num: 2; data_input dataAllMiceTraining_allsessions\n",
      "Saving individual GLMHMM results ...\n",
      "dname: dataAllMiceTraining; animal: M_IO138; model: GLM_HMM_y; regularization: None, state_num: 3; data_input dataAllMiceTraining_allsessions\n",
      "Saving individual GLMHMM results ...\n",
      "dname: dataAllMiceTraining; animal: M_ML007; model: GLM_HMM_y; regularization: None, state_num: 3; data_input dataAllMiceTraining_allsessions\n",
      "Saving individual GLMHMM results ...\n",
      "dname: dataAllMiceTraining; animal: M_ML008; model: GLM_HMM_y; regularization: None, state_num: 3; data_input dataAllMiceTraining_allsessions\n"
     ]
    }
   ],
   "source": [
    "# Each animal\n",
    "for animal in animal_list:\n",
    "    Kanimal = bestK_animals[animal]\n",
    "    %run -i ./output_glmhmm_states_individual.py -d {dname} -a {animal} -m {model} -K {Kanimal} --bestK -r {regularization} -s allsessions"
   ]
  },
  {
   "cell_type": "markdown",
   "metadata": {},
   "source": []
  }
 ],
 "metadata": {
  "kernelspec": {
   "display_name": "Python 3",
   "language": "python",
   "name": "python3"
  },
  "language_info": {
   "codemirror_mode": {
    "name": "ipython",
    "version": 3
   },
   "file_extension": ".py",
   "mimetype": "text/x-python",
   "name": "python",
   "nbconvert_exporter": "python",
   "pygments_lexer": "ipython3",
   "version": "3.7.6"
  }
 },
 "nbformat": 4,
 "nbformat_minor": 2
}
